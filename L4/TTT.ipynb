{
 "cells": [
  {
   "cell_type": "markdown",
   "metadata": {
    "collapsed": true
   },
   "source": [
    "# Tic-Tac-Toe"
   ]
  },
  {
   "cell_type": "code",
   "execution_count": 1,
   "metadata": {
    "collapsed": true
   },
   "outputs": [],
   "source": [
    "import numpy as np\n",
    "import matplotlib.pyplot as plt\n",
    "from IPython.display import clear_output\n",
    "import time\n",
    "np.random.seed(228)"
   ]
  },
  {
   "cell_type": "code",
   "execution_count": 2,
   "metadata": {
    "collapsed": true
   },
   "outputs": [],
   "source": [
    "def checkPosition(position):\n",
    "        if checkVertical(position, 'x') or checkHorizontal(position, 'x') \\\n",
    "        or checkDiagonal(position, 'x'):\n",
    "            return 'w'\n",
    "        elif checkVertical(position, 'o') or checkHorizontal(position, 'o') \\\n",
    "        or checkDiagonal(position, 'o'):\n",
    "            return 'l'\n",
    "        elif position.find('.') == -1:\n",
    "            return 'd'\n",
    "        else:\n",
    "            return 'n'       \n",
    "\n",
    "def checkVertical(position, c):\n",
    "    for i in range(3, 6):\n",
    "        if position[i-3] == c and position[i] == c and position[i+3] == c:\n",
    "            return True\n",
    "    return False\n",
    "\n",
    "def checkHorizontal(position, c):\n",
    "    for i in range(1, 8, 3):\n",
    "        if position[i-1] == c and position[i] == c and position[i+1] == c:\n",
    "            return True\n",
    "    return False\n",
    "\n",
    "def checkDiagonal(position, c):\n",
    "    if (position[0] == c and position[4] == c and position[8] == c) or \\\n",
    "    (position[2] == c and position[4] == c and position[6] == c):\n",
    "        return True\n",
    "    return False\n",
    "\n",
    "def printPosition(position):\n",
    "    clear_output()\n",
    "    for i in range(0, 9, 3):\n",
    "        print(position[i : i + 3])"
   ]
  },
  {
   "cell_type": "code",
   "execution_count": 3,
   "metadata": {
    "collapsed": false
   },
   "outputs": [],
   "source": [
    "class mdpPlayer(object):\n",
    "    def __init__(self, player, mode, epsilon=0.1, alpha=0.2, discount=1):\n",
    "        self.state2num = {}\n",
    "        self.num2state = {}\n",
    "        self.S = 0\n",
    "        self.curPosition = \".........\"\n",
    "        self.player=player\n",
    "        self.__generateStates__(self.curPosition)\n",
    "        self.Q = np.zeros((9, self.S))\n",
    "        self.eps = epsilon\n",
    "        self.alpha = alpha\n",
    "        self.discount = discount\n",
    "        self.lastA = None\n",
    "        self.lastS = None\n",
    "        self.learn = 1\n",
    "        self.mode = mode\n",
    "    \n",
    "    def takeResponse(self, new_position, reward=None):\n",
    "        if not self.learn:\n",
    "            return\n",
    "        \n",
    "        self.curPosition = new_position\n",
    "        newS = self.state2num[self.curPosition]\n",
    "        if reward == None:\n",
    "            self.lastS = newS\n",
    "            return\n",
    "        if self.mode == 'sarsa':\n",
    "            newA = self.__chooseAction__(self.curPosition)\n",
    "        elif self.mode == 'q':\n",
    "            epsilon = self.eps\n",
    "            self.eps = 0\n",
    "            newA = self.__chooseAction__(self.curPosition)\n",
    "            self.eps = epsilon\n",
    "\n",
    "        self.Q[self.lastA, self.lastS] = (1 - self.alpha) * self.Q[self.lastA, self.lastS] + \\\n",
    "        self.alpha * (reward + self.discount * self.Q[newA, newS])\n",
    "\n",
    "        self.lastS = newS \n",
    "        \n",
    "    def takeAction(self, position):\n",
    "        self.lastA = self.__chooseAction__(position)\n",
    "        return self.lastA\n",
    "    \n",
    "    def __chooseAction__(self, position):\n",
    "        if position.find('.') == -1:\n",
    "            return 0\n",
    "        state = self.state2num[position]\n",
    "        actions = []\n",
    "        for i in range(9):\n",
    "            if position[i] == '.':\n",
    "                actions.append(i)\n",
    "        actions = np.array(actions, copy=False)\n",
    "        \n",
    "        p = np.random.random()\n",
    "        if p < self.eps:\n",
    "            return np.random.choice(actions)\n",
    "        else:\n",
    "            values = np.zeros(actions.shape)\n",
    "            for a in range(actions.shape[0]):\n",
    "                values[a] = self.Q[actions[a], state]\n",
    "            best_value = np.max(values)\n",
    "            return actions[np.random.choice(np.where(values == best_value)[0])]\n",
    "        \n",
    "    def __generateStates__(self, position, player=0):\n",
    "        pos_type = checkPosition(position)\n",
    "        if player == self.player or pos_type != 'n':\n",
    "            if self.state2num.get(position) is None:\n",
    "                self.state2num[position] = self.S\n",
    "                self.num2state[self.S] = position\n",
    "                self.S += 1\n",
    "            else:\n",
    "                return\n",
    "        \n",
    "        if pos_type == 'n':\n",
    "            for i in range(9):\n",
    "                if position[i] == '.':\n",
    "                    new_position = position[:i]\n",
    "                    new_position += 'x' if not player else 'o'\n",
    "                    new_position += position[i + 1:]                        \n",
    "                    self.__generateStates__(new_position, 1 - player)\n",
    "        return\n",
    "    \n",
    "    def playMode(self):\n",
    "        self.eps = 0\n",
    "        self.learn = 0\n",
    "    \n",
    "    def randomMode(self):\n",
    "        self.eps = 1\n",
    "        self.learn = 0\n",
    "    \n",
    "    def learnMode(self, epsilon):\n",
    "        self.eps = epsilon\n",
    "        self.learn = 1"
   ]
  },
  {
   "cell_type": "code",
   "execution_count": 4,
   "metadata": {
    "collapsed": true
   },
   "outputs": [],
   "source": [
    "class Match(object):\n",
    "    def __init__(self):\n",
    "        self.position = '.........'\n",
    "        self.player = 0\n",
    "        self.crosseswin = 0\n",
    "        self.noughtswin = 0\n",
    "        self.draw = 0\n",
    "    \n",
    "    def __train__(self, player0, player1):\n",
    "        finished = 0\n",
    "        beginning = 1\n",
    "        while not finished:\n",
    "            if self.player == 0:\n",
    "                move = player0.takeAction(self.position)\n",
    "                self.position = self.position[: move] + 'x' + self.position[move + 1 :]\n",
    "                pos_type = checkPosition(self.position)\n",
    "                if pos_type == 'n':\n",
    "                    if beginning:\n",
    "                        player1.takeResponse(new_position=self.position, reward=None)\n",
    "                    else:\n",
    "                        player1.takeResponse(new_position=self.position, reward=0)\n",
    "                elif pos_type == 'd':\n",
    "                    player0.takeResponse(new_position=self.position, reward=1)\n",
    "                    player1.takeResponse(new_position=self.position, reward=1)\n",
    "                    self.draw += 1\n",
    "                    finished = 1\n",
    "                elif pos_type == 'w':\n",
    "                    player0.takeResponse(new_position=self.position, reward=10)\n",
    "                    player1.takeResponse(new_position=self.position, reward=-10)\n",
    "                    self.crosseswin += 1\n",
    "                    finished = 1\n",
    "            else:\n",
    "                move = player1.takeAction(self.position)\n",
    "                self.position = self.position[: move] + 'o' + self.position[move + 1 :]\n",
    "                pos_type = checkPosition(self.position)\n",
    "                if pos_type == 'n':\n",
    "                    player0.takeResponse(new_position=self.position, reward=0)\n",
    "                elif pos_type == 'l':\n",
    "                    player0.takeResponse(new_position=self.position, reward=-10)\n",
    "                    player1.takeResponse(new_position=self.position, reward=10)\n",
    "                    self.noughtswin += 1\n",
    "                    finished = 1\n",
    "            self.player = 1 - self.player\n",
    "            beginning = 0\n",
    "            \n",
    "        self.position = '.........'\n",
    "        self.player = 0\n",
    "    \n",
    "    def __test__(self, player0, player1, verbose=0):\n",
    "        finished = 0\n",
    "        while not finished:\n",
    "            if self.player == 0:\n",
    "                move = player0.takeAction(self.position)\n",
    "                self.position = self.position[: move] + 'x' + self.position[move + 1 :]\n",
    "                pos_type = checkPosition(self.position)\n",
    "                if pos_type == 'd':\n",
    "                    self.draw += 1\n",
    "                    if verbose == 2:\n",
    "                        printPosition(self.position)\n",
    "                        print('\\nDraw')\n",
    "                        if type(player0) == humanPlayer or type(player1) == humanPlayer:\n",
    "                            time.sleep(5)\n",
    "                    finished = 1\n",
    "                elif pos_type == 'w':\n",
    "                    self.crosseswin += 1\n",
    "                    if verbose == 2:\n",
    "                        printPosition(self.position)\n",
    "                        print('\\nCrosses win')\n",
    "                        if type(player0) == humanPlayer or type(player1) == humanPlayer:\n",
    "                            time.sleep(5)\n",
    "                    finished = 1\n",
    "            else:\n",
    "                move = player1.takeAction(self.position)\n",
    "                self.position = self.position[: move] + 'o' + self.position[move + 1 :]\n",
    "                pos_type = checkPosition(self.position)\n",
    "                if pos_type == 'l':\n",
    "                    self.noughtswin += 1\n",
    "                    if verbose == 2:\n",
    "                        printPosition(self.position)\n",
    "                        print('\\nNoughts win')\n",
    "                        if type(player0) == humanPlayer or type(player1) == humanPlayer:\n",
    "                            time.sleep(5)\n",
    "                    finished = 1\n",
    "            self.player = 1 - self.player\n",
    "        self.position = '.........'\n",
    "        self.player = 0\n",
    "    \n",
    "    def trainSet(self, number, player0, player1):\n",
    "        time0 = time.time()\n",
    "        self.__init__()\n",
    "        for i in range(1, number+1):\n",
    "            self.__train__(player0, player1)\n",
    "        print('\\t' + str(time.time() - time0))\n",
    "        \n",
    "    \n",
    "    def testSet(self, number, player0, player1, verbose=0):\n",
    "        self.__init__()\n",
    "        for i in range(1, number+1):\n",
    "            self.__test__(player0, player1, verbose)\n",
    "            if verbose == 1 and i % 100 == 0:\n",
    "                print('\\r\\tCrosses: ' + str(self.crosseswin) + ', Noughts: ' + str(self.noughtswin) + \\\n",
    "                      ', Draw: ' + str(self.draw), end=' ')\n",
    "                time.sleep(0.0001)\n",
    "        print('')"
   ]
  },
  {
   "cell_type": "code",
   "execution_count": 5,
   "metadata": {
    "collapsed": true
   },
   "outputs": [],
   "source": [
    "class humanPlayer(object):\n",
    "    def __init__(self):\n",
    "        pass\n",
    "    \n",
    "    def takeResponse(self, new_position, reward):\n",
    "        pass\n",
    "    \n",
    "    def takeAction(self, position):\n",
    "        printPosition(position)\n",
    "        action = int(input())\n",
    "        return action"
   ]
  },
  {
   "cell_type": "code",
   "execution_count": 6,
   "metadata": {
    "collapsed": true
   },
   "outputs": [],
   "source": [
    "def trainNtest(mtch, cr, nt, explore, exploit):\n",
    "    cr.learnMode(0.85)\n",
    "    nt.learnMode(0.85)\n",
    "    print('Exploration learning time, s:')\n",
    "    mtch.trainSet(explore, cr, nt)\n",
    "    cr.learnMode(0.15)\n",
    "    nt.learnMode(0.15)\n",
    "    print('\\nExploitation learning time, s:')\n",
    "    mtch.trainSet(exploit, cr, nt)\n",
    "    cr.playMode()\n",
    "    nt.playMode()\n",
    "    print('\\nTrained crosses vs Trained noughts:')\n",
    "    mtch.testSet(1000, cr, nt, verbose=1)\n",
    "    cr.playMode()\n",
    "    nt.randomMode()\n",
    "    print('\\nTrained crosses vs Random noughts:')\n",
    "    mtch.testSet(100000, cr, nt, verbose=1)\n",
    "    cr.randomMode()\n",
    "    nt.playMode()\n",
    "    print('\\nRandom crosses vs Trained noughts:')\n",
    "    mtch.testSet(100000, cr, nt, verbose=1)"
   ]
  },
  {
   "cell_type": "code",
   "execution_count": 7,
   "metadata": {
    "collapsed": false
   },
   "outputs": [
    {
     "name": "stdout",
     "output_type": "stream",
     "text": [
      "Exploration learning time, s:\n",
      "\t42.466872215270996\n",
      "\n",
      "Exploitation learning time, s:\n",
      "\t35.82121729850769\n",
      "\n",
      "Trained crosses vs Trained noughts:\n",
      "\tCrosses: 0, Noughts: 0, Draw: 1000 \n",
      "\n",
      "Trained crosses vs Random noughts:\n",
      "\tCrosses: 98391, Noughts: 0, Draw: 1609 \n",
      "\n",
      "Random crosses vs Trained noughts:\n",
      "\tCrosses: 0, Noughts: 81466, Draw: 18534  \n"
     ]
    }
   ],
   "source": [
    "mtch = Match()\n",
    "crS = mdpPlayer(player=0, mode='sarsa', alpha=0.15, epsilon=0.85, discount=0.85)\n",
    "ntS = mdpPlayer(player=1, mode='sarsa', alpha=0.15, epsilon=0.85, discount=0.85)\n",
    "trainNtest(mtch, crS, ntS, 100000, 50000)"
   ]
  },
  {
   "cell_type": "code",
   "execution_count": 8,
   "metadata": {
    "collapsed": false
   },
   "outputs": [
    {
     "name": "stdout",
     "output_type": "stream",
     "text": [
      "Exploration learning time, s:\n",
      "\t18.738577365875244\n",
      "\n",
      "Exploitation learning time, s:\n",
      "\t12.061806678771973\n",
      "\n",
      "Trained crosses vs Trained noughts:\n",
      "\tCrosses: 0, Noughts: 0, Draw: 1000 \n",
      "\n",
      "Trained crosses vs Random noughts:\n",
      "\tCrosses: 98299, Noughts: 0, Draw: 1701 \n",
      "\n",
      "Random crosses vs Trained noughts:\n",
      "\tCrosses: 0, Noughts: 89160, Draw: 10840 \n"
     ]
    }
   ],
   "source": [
    "crQ = mdpPlayer(player=0, mode='q', alpha=0.15, epsilon=0.85, discount=0.85)\n",
    "ntQ = mdpPlayer(player=1, mode='q', alpha=0.15, epsilon=0.85, discount=0.85)\n",
    "trainNtest(mtch, crQ, ntQ, 100000, 50000)"
   ]
  },
  {
   "cell_type": "code",
   "execution_count": 8,
   "metadata": {
    "collapsed": true
   },
   "outputs": [],
   "source": [
    "hp = humanPlayer()"
   ]
  },
  {
   "cell_type": "code",
   "execution_count": 19,
   "metadata": {
    "collapsed": false
   },
   "outputs": [
    {
     "name": "stdout",
     "output_type": "stream",
     "text": [
      "\t30.679829359054565\n"
     ]
    }
   ],
   "source": [
    "crS.learnMode(0.15)\n",
    "ntS.playMode()\n",
    "mtch.trainSet(50000, crS, ntS)"
   ]
  },
  {
   "cell_type": "code",
   "execution_count": null,
   "metadata": {
    "collapsed": true
   },
   "outputs": [],
   "source": []
  }
 ],
 "metadata": {
  "kernelspec": {
   "display_name": "Python 3",
   "language": "python",
   "name": "python3"
  },
  "language_info": {
   "codemirror_mode": {
    "name": "ipython",
    "version": 3
   },
   "file_extension": ".py",
   "mimetype": "text/x-python",
   "name": "python",
   "nbconvert_exporter": "python",
   "pygments_lexer": "ipython3",
   "version": "3.5.2"
  }
 },
 "nbformat": 4,
 "nbformat_minor": 2
}

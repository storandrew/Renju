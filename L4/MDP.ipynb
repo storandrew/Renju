{
 "cells": [
  {
   "cell_type": "markdown",
   "metadata": {},
   "source": [
    "# Marcov Decision Process"
   ]
  },
  {
   "cell_type": "markdown",
   "metadata": {},
   "source": [
    "### Introduction"
   ]
  },
  {
   "cell_type": "markdown",
   "metadata": {},
   "source": [
    "##### Шашки\n",
    "\n",
    "В качестве примера марковского процесса принятия решений можно привести множество настольных игр, например, шашки. Действительно, для того, кто играет за белых, процесс описывается следующим образом:\n",
    "1.  Агент - сам игрок.\n",
    "2.  Среда - соперник, играющий за черных.\n",
    "3.  Состояния - позиции на доске, которые могли получиться за четное число полуходов (т.е. позиции перед ходом белых). Т.к. всех возможных расстановок шашек на доске конечно, то и множество состояний конечно.\n",
    "4.  Множество действий в каждом состоянии - возможные ходы в текущей позиции. Их объединение по всем состояниям даст множество всех действий.\n",
    "5.  Награда за промежуточный ход - 0, за победу - 1, за поражение - (-1).\n",
    "\n",
    "Ясно, что в такой естественной модели решение не зависит от предыдущих состояний и выбранных действий. Поэтому мы получаем марковский процесс. Заметим, что агенту неизвестно распределение вероятностей, т.е. ходов соперника."
   ]
  },
  {
   "cell_type": "markdown",
   "metadata": {},
   "source": [
    "##### Шахматы\n",
    "\n",
    "Примером настольной игры, где естественная модель не будет являться марковским процессом, являются шахматы. Допустим, мы хотим модель, аналогичную описанной для шашек, где в качестве состояний используются позиции на доске. Однако здесь возникнут проблемы, связанные со спецификой правил:\n",
    "1.  Если король или ладья совершали ход в течении партии, а после вернулись на исходные клетки, рокировку в соответствующую сторону делать нельзя. Но, лишь глядя на позицию, этого определить не получится.\n",
    "2.  Если пешка сходила с исходной клетки на две клетку вперед и оказалась на одной горизонтали и на соседней вертикали с пешкой оппонента, последний имеет право на взятие на проходе. Если же пешка попала в аналогичную позицию за два хода, взятие на проходе не допускается. Отметим, что и эту ситуацию невозможно определить, имея информацию лишь о текущем расположении фигур.\n",
    "3.  Игрок имеет право потребовать ничью (т.е. прийти в терминальное состояние в рамках модели), если за последние 50 ходов ни одна пешка не делала ход и ни одна фигура не была срублена. Это также невозможно определить по позиции.\n",
    "\n",
    "Таким образом, в рамках естественной модели для шахмат не получится даже определить возможные действия из некоторых состояний. Значит, такая модель не будет представлять из себя марковский процесс принятия решений, т.к. последующие действия зависят от предыдущих действий и состояний."
   ]
  },
  {
   "cell_type": "markdown",
   "metadata": {},
   "source": [
    "##### Связь значений\n",
    "\n",
    "Рассмотрим, как связаны некоторые значения в рамках рассматриваемой модели:\n",
    "\n",
    "1.  $r(s, a) = \\sum_{s', r}rp(s', r'|s, a)$ - средняя награда из состояния $s$ по действию $a$.\n",
    "2.  $p(s'|s, a) = \\sum_r p(s', r|s, a)$ - вероятность перехода в состояние $s'$ из состояния $s$ по действию $a$.\n",
    "3.  Средний выигрыш по переходу из $s$ в $s'$ по действию $a$: $$r(s, a, s') = \\frac{\\sum_rp(s', r|s, a)}{p(s'|s, a)}.$$\n",
    "\n",
    "Перейдем к реализации. Для удобства будем считать, что нам заранее известны средние значения выигрышей по конкретным переходам."
   ]
  },
  {
   "cell_type": "markdown",
   "metadata": {},
   "source": [
    "### Implementation"
   ]
  },
  {
   "cell_type": "code",
   "execution_count": 1,
   "metadata": {
    "collapsed": false
   },
   "outputs": [],
   "source": [
    "%matplotlib inline\n",
    "import numpy as np\n",
    "import matplotlib.pyplot as plt\n",
    "import time\n",
    "np.random.seed(228)"
   ]
  },
  {
   "cell_type": "markdown",
   "metadata": {},
   "source": [
    "Для начала зададим среду. Пусть имеется $S$ состояний и $A$ действий. Среда определяется двумя характеристиками: матрицей переходов $T$ размера $A \\times S \\times S$ и матрицей наград R такого же размера. Элемент $T_{a, s_1, s_2}$ задает вероятность перехода из состояния $s_1$ в состояние $s_2$ при выборе действия $a$. Элемент $R_{a, s_1, s_2}$ равен математическому ожиданию награды $R$ при переходе из состояния $s_1$ в состояние $s_2$ по действию $a$."
   ]
  },
  {
   "cell_type": "code",
   "execution_count": 2,
   "metadata": {
    "collapsed": true
   },
   "outputs": [],
   "source": [
    "class Environment(object):\n",
    "    def __init__(self, states, actions):\n",
    "        self.probabilities = np.zeros((actions, states, states))\n",
    "        self.rewards = np.zeros((actions, states, states))\n",
    "        for action in range(actions):\n",
    "            for state in range(states):\n",
    "                mask = np.random.random(states)\n",
    "                p = np.random.random() / 2 + 0.25\n",
    "                mask[mask >= p] = 1\n",
    "                mask[mask < p] = 0\n",
    "                if mask.max() == 0:\n",
    "                    mask[np.random.randint(0, states)] = 1\n",
    "                self.probabilities[action, state, :] = np.random.random(states) * mask\n",
    "                self.probabilities[action, state, :] /= self.probabilities[action, state, :].sum()\n",
    "                self.rewards[action, state, :] = (np.random.poisson(lam=10, size=states)) * mask\n",
    "    \n",
    "    def getTransitions(self):\n",
    "        return self.probabilities\n",
    "    \n",
    "    def getRewards(self):\n",
    "        return self.rewards"
   ]
  },
  {
   "cell_type": "markdown",
   "metadata": {},
   "source": [
    "Теперь смоделируем непосредственно Марковский процесс принятия решений. Для сравнения скорости сходимости двух методов ($value \\ iteration$ и $policy \\ iteration$) обучим модель с очень маленьким значением $\\varepsilon$ (скажем, $10^{-10}$). Можно убедиться, что при таких значениях оба метода дадут почти равные оценки состояний. Назовем полученную функцию оценки состояний $base$. Далее будем на каждой итерации с разумным значением $\\varepsilon$ (пусть $10^{-4}$) сравнивать сравнивать $base$ и текущую функцию оценки состояния. Для этого определим следующее значение:\n",
    "$$variation(V, V') = \\max\\limits_{s \\in S} \\left|V_s - V'_s \\right|.$$\n",
    "Ясно, что чем меньше значение $variation(base, current)$, тем ближе текущая оценка позиции к эталонной. Также будем запоминать время каждого сравнения."
   ]
  },
  {
   "cell_type": "code",
   "execution_count": 3,
   "metadata": {
    "collapsed": false
   },
   "outputs": [],
   "source": [
    "'''Markov Decision Process model\n",
    "----------------------------------------------\n",
    "S - number of states\n",
    "A - number of actions\n",
    "\n",
    "T = array[A x S x S] - matrix of transition probabilities:\n",
    "    T[a, s1, s2] - probability of state s2, when action a is chosen in state s1\n",
    "R = array[A x S x S] - matrix of expected rewards:\n",
    "    R[a, s1, s2] - expected reward for transition from state s1 to state s2 by action a\n",
    "\n",
    "discount - coefficient of discounting from [0, 1)\n",
    "----------------------------------------------\n",
    "V = array[S] - state-value function\n",
    "Q = array[A x S] - action-value function\n",
    "\n",
    "policy = array[A x S] - policy: policy[a, s] - probability of choosing action a in state s\n",
    "----------------------------------------------\n",
    "cmp - flag of comparison, if true,\n",
    "    the variation between base and current state-value functions is computed\n",
    "history - information about state-value function, the list of tuples (v, t),\n",
    "    where v is the variation in the moment t\n",
    "time0 - to set the timer to the beginning of learning\n",
    "----------------------------------------------\n",
    "'''\n",
    "\n",
    "class MDP(object):\n",
    "    def __init__(self, T, R, discount):        \n",
    "        self.S = T.shape[1]\n",
    "        self.A = T.shape[0]\n",
    "        self.T = T\n",
    "        self.R = R\n",
    "        self.discount = discount\n",
    "        self.V = np.random.normal(size=self.S)\n",
    "        self.Q = np.zeros((self.A, self.S))\n",
    "        self.__initPolicy__()\n",
    "        self.history = []\n",
    "        self.time0 = 0\n",
    "        self.cmp = 0\n",
    "    \n",
    "    def __initPolicy__(self):\n",
    "        self.policy = np.zeros((self.A, self.S))\n",
    "        # choosing policy that maximizes immediate reward in every state\n",
    "        for state in range(self.S):\n",
    "            actions_exp_rewards = self.__calculateActionRewards__(state, discounting=0)\n",
    "            best_actions = np.where(actions_exp_rewards == np.max(actions_exp_rewards))[0]\n",
    "            for action in best_actions:\n",
    "                self.policy[action, state] = 1 / best_actions.shape[0]\n",
    "    \n",
    "    def __iterativePolicyEval__(self, epsilon, baseV, max_iter=1000):\n",
    "        done = 0\n",
    "        iteration = 0\n",
    "        while not done:\n",
    "            iteration += 1\n",
    "            V_prev = np.copy(self.V)\n",
    "            for state in range(self.S):\n",
    "                actions_exp_rewards = self.__calculateActionRewards__(state)\n",
    "                self.V[state] = np.sum(actions_exp_rewards * self.policy[:, state], axis=0)\n",
    "                \n",
    "            variation = np.abs(V_prev - self.V).max()\n",
    "            if variation < epsilon or iteration > max_iter:\n",
    "                done = 1\n",
    "            if self.cmp:\n",
    "                base_variation = np.abs(self.V - baseV).max()\n",
    "                self.history.append([base_variation, time.time() - self.time0])\n",
    "        return iteration, variation\n",
    "    \n",
    "    def __policyImprovement__(self):\n",
    "        for state in range(self.S):\n",
    "            old_actions = np.copy(self.policy[:, state])\n",
    "            actions_exp_rewards = self.__calculateActionRewards__(state)\n",
    "            best_actions = np.where(actions_exp_rewards == np.max(actions_exp_rewards))[0]\n",
    "            self.policy[:, state] = 0\n",
    "            for action in best_actions:\n",
    "                self.policy[action, state] = 1 / best_actions.shape[0]\n",
    "            if not np.all(self.policy[:, state] == old_actions):\n",
    "                self.stable_policy = 0\n",
    "            del old_actions\n",
    "    \n",
    "    def policyIteration(self, epsilon=1e-4, verbose=0, baseV=np.zeros((0,0))):\n",
    "        if baseV.any():\n",
    "            self.cmp = 1\n",
    "        else:\n",
    "            self.cmp = 0\n",
    "        self.history = []\n",
    "        self.time0 = time.time()\n",
    "        self.stable_policy = 0\n",
    "        inner_iterations = 0\n",
    "        while not self.stable_policy:\n",
    "            current_iterations, variation = self.__iterativePolicyEval__(epsilon=epsilon, baseV=baseV)\n",
    "            inner_iterations += current_iterations\n",
    "            self.stable_policy = 1\n",
    "            self.__policyImprovement__()\n",
    "            if verbose:\n",
    "                print('Iterations: ' + str(inner_iterations), end='\\t')\n",
    "                print('\\ttime: ' + str(time.time() - self.time0), end='\\t')\n",
    "                print('\\tVariation: ' + str(variation))\n",
    "            \n",
    "    def valueIteration(self, epsilon=1e-4, verbose=0, baseV=np.zeros((0,0))):\n",
    "        self.history = []\n",
    "        if baseV.any():\n",
    "            self.cmp = 1\n",
    "        else:\n",
    "            self.cmp = 0\n",
    "        delta = epsilon\n",
    "        self.time0 = time.time()\n",
    "        iters = 1\n",
    "        variation = 0\n",
    "        while delta >= epsilon:\n",
    "            delta = 0\n",
    "            for state in range(self.S):\n",
    "                v_prev = self.V[state]\n",
    "                actions_exp_rewards = self.__calculateActionRewards__(state)\n",
    "                self.V[state] = np.max(actions_exp_rewards)\n",
    "                variation = np.abs(v_prev - self.V[state])\n",
    "                delta = max(variation, delta)\n",
    "            if self.cmp:\n",
    "                base_variation = np.abs(self.V - baseV).max()\n",
    "                self.history.append([base_variation, time.time() - self.time0])\n",
    "            if verbose:\n",
    "                print('Iteration: ' + str(iters), end='\\t')\n",
    "                print('\\ttime: ' + str(time.time() - time0), end='\\t')\n",
    "                print('\\tVariation: ' + str(variation))\n",
    "            iters += 1\n",
    "        self.__policyImprovement__()        \n",
    "    \n",
    "    def  __calculateActionRewards__(self, state, discounting=1):\n",
    "        return np.sum(self.T[:, state, :] * (self.R[:, state, :] + \\\n",
    "                                             discounting * self.discount * self.V), axis=1)\n",
    "    \n",
    "    def getPolicy(self):\n",
    "        return self.policy\n",
    "    \n",
    "    def getStateEval(self):\n",
    "        return self.V"
   ]
  },
  {
   "cell_type": "markdown",
   "metadata": {},
   "source": [
    "Сгенерируем среду с 50 действиями и 100 состояниями."
   ]
  },
  {
   "cell_type": "code",
   "execution_count": 4,
   "metadata": {
    "collapsed": false
   },
   "outputs": [],
   "source": [
    "S = 100\n",
    "A = 50\n",
    "\n",
    "env = Environment(S, A)\n",
    "P = env.getTransitions()\n",
    "R = env.getRewards()"
   ]
  },
  {
   "cell_type": "markdown",
   "metadata": {},
   "source": [
    "Возьмем параметр дисконтирования равный $0.8$. Запустим два метода с $\\varepsilon = 10^{-10}$. Убедимся, что функции оценки состояний почти равны и запомним функцию для одной из модели. Также запомним стратегию."
   ]
  },
  {
   "cell_type": "code",
   "execution_count": 5,
   "metadata": {
    "collapsed": false,
    "scrolled": false
   },
   "outputs": [
    {
     "name": "stdout",
     "output_type": "stream",
     "text": [
      "1.10816955612e-09\n"
     ]
    }
   ],
   "source": [
    "mdpPIbase = MDP(P, R, 0.8)\n",
    "mdpPIbase.policyIteration(1e-10, verbose=0)\n",
    "mdpVIbase = MDP(P, R, 0.8)\n",
    "mdpVIbase.valueIteration(1e-10, verbose=0)\n",
    "print(np.abs(mdpPIbase.getStateEval() - mdpVIbase.getStateEval()).sum())\n",
    "baseStateEval = mdpVIbase.getStateEval()\n",
    "basePolicy = mdpVIbase.getPolicy()"
   ]
  },
  {
   "cell_type": "markdown",
   "metadata": {},
   "source": [
    "### Comparison\n",
    "Теперь сравним сходимость методов. Положим $\\varepsilon = 0.4$. Будем использовать вышеописанный метод."
   ]
  },
  {
   "cell_type": "code",
   "execution_count": 6,
   "metadata": {
    "collapsed": false
   },
   "outputs": [],
   "source": [
    "mdpPI = MDP(P, R, 0.8)\n",
    "mdpPI.policyIteration(1e-4, 0, baseStateEval)\n",
    "mdpVI = MDP(P, R, 0.8)\n",
    "mdpVI.valueIteration(1e-4, 0, baseStateEval)\n",
    "historyVI = np.array(mdpVI.history)\n",
    "historyPI = np.array(mdpPI.history)"
   ]
  },
  {
   "cell_type": "markdown",
   "metadata": {},
   "source": [
    "Убедимся, что стратегии получились одинаковыми."
   ]
  },
  {
   "cell_type": "code",
   "execution_count": 7,
   "metadata": {
    "collapsed": false
   },
   "outputs": [
    {
     "data": {
      "text/plain": [
       "True"
      ]
     },
     "execution_count": 7,
     "metadata": {},
     "output_type": "execute_result"
    }
   ],
   "source": [
    "np.array_equal(basePolicy, mdpPI.getPolicy()) and np.array_equal(basePolicy, mdpVI.getPolicy())"
   ]
  },
  {
   "cell_type": "markdown",
   "metadata": {},
   "source": [
    "Наконец, посмотрим на графики в осях $time \\times variation$."
   ]
  },
  {
   "cell_type": "code",
   "execution_count": 8,
   "metadata": {
    "collapsed": false
   },
   "outputs": [
    {
     "data": {
      "image/png": "[encoded data removed]",
      "text/plain": [
       "<matplotlib.figure.Figure at 0x7fa6fd7ba4e0>"
      ]
     },
     "metadata": {},
     "output_type": "display_data"
    }
   ],
   "source": [
    "fig = plt.figure(figsize=(10, 5))\n",
    "\n",
    "plt.plot(historyPI[:, 1], historyPI[:, 0], c='red', label='Policy iteration')\n",
    "plt.plot(historyVI[:, 1], historyVI[:, 0], c='blue', label='Value iteration')\n",
    "\n",
    "plt.xlabel('Time')\n",
    "plt.ylabel('Variation')\n",
    "plt.legend()\n",
    "plt.grid()\n",
    "plt.show()"
   ]
  },
  {
   "cell_type": "markdown",
   "metadata": {},
   "source": [
    "Видно, что оба метода сходятся достаточно быстро, однако в данной задаче $value \\ iteration$ сходится значительно быстрее, поэтому далее будем рассматривать его.\n",
    "\n",
    "Рассмотрим, как меняется значение $state \\ value$ функции для некоторых состояний в зависимости от значения параметра дисконтирования."
   ]
  },
  {
   "cell_type": "code",
   "execution_count": 9,
   "metadata": {
    "collapsed": false
   },
   "outputs": [],
   "source": [
    "discounters = [0.1, 0.3, 0.5, 0.6, 0.7, 0.8, 0.9, 0.95]\n",
    "values = np.zeros((len(discounters), S))\n",
    "for d in range(len(discounters)):\n",
    "    mdp = MDP(P, R, discounters[d])\n",
    "    mdp.valueIteration(1e-6)\n",
    "    values[d, :] = mdp.getStateEval()"
   ]
  },
  {
   "cell_type": "code",
   "execution_count": 10,
   "metadata": {
    "collapsed": false,
    "scrolled": false
   },
   "outputs": [
    {
     "data": {
      "image/png": "[encoded data removed]",
      "text/plain": [
       "<matplotlib.figure.Figure at 0x7fa6fae6acc0>"
      ]
     },
     "metadata": {},
     "output_type": "display_data"
    }
   ],
   "source": [
    "fig = plt.figure(figsize=(10, 5))\n",
    "\n",
    "states = [0, 10, 20, 30, 40]\n",
    "\n",
    "for s in range(len(states)):\n",
    "    plt.plot(discounters, values[:, s])\n",
    "\n",
    "plt.xlabel('Discount')\n",
    "plt.ylabel('Value')\n",
    "plt.grid()\n",
    "plt.show()"
   ]
  },
  {
   "cell_type": "markdown",
   "metadata": {
    "collapsed": true
   },
   "source": [
    "Видно, что при стремлении параметра к 1 значения сильно растут, что ожидаемо ввиду определения $state \\ value$ функции через ряды. При малых значениях параметра значения функции, напротив, убывают, однако медленно."
   ]
  },
  {
   "cell_type": "code",
   "execution_count": null,
   "metadata": {
    "collapsed": true
   },
   "outputs": [],
   "source": []
  }
 ],
 "metadata": {
  "kernelspec": {
   "display_name": "Python 3",
   "language": "python",
   "name": "python3"
  },
  "language_info": {
   "codemirror_mode": {
    "name": "ipython",
    "version": 3
   },
   "file_extension": ".py",
   "mimetype": "text/x-python",
   "name": "python",
   "nbconvert_exporter": "python",
   "pygments_lexer": "ipython3",
   "version": "3.5.2"
  }
 },
 "nbformat": 4,
 "nbformat_minor": 2
}

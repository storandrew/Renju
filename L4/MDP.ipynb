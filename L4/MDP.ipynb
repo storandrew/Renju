{
 "cells": [
  {
   "cell_type": "markdown",
   "metadata": {},
   "source": [
    "# Marcov Decision Process"
   ]
  },
  {
   "cell_type": "markdown",
   "metadata": {},
   "source": [
    "### Introduction"
   ]
  },
  {
   "cell_type": "markdown",
   "metadata": {},
   "source": [
    "##### Шашки\n",
    "\n",
    "В качестве примера марковского процесса принятия решений можно привести множество настольных игр, например, шашки. Действительно, для того, кто играет за белых, процесс описывается следующим образом:\n",
    "1.  Агент - сам игрок.\n",
    "2.  Среда - соперник, играющий за черных.\n",
    "3.  Состояния - позиции на доске, которые могли получиться за четное число полуходов (т.е. позиции перед ходом белых). Т.к. всех возможных расстановок шашек на доске конечно, то и множество состояний конечно.\n",
    "4.  Множество действий в каждом состоянии - возможные ходы в текущей позиции. Их объединение по всем состояниям даст множество всех действий.\n",
    "5.  Награда за промежуточный ход - 0, за победу - 1, за поражение - (-1).\n",
    "\n",
    "Ясно, что в такой естественной модели решение не зависит от предыдущих состояний и выбранных действий. Поэтому мы получаем марковский процесс. Заметим, что агенту неизвестно распределение вероятностей, т.е. ходов соперника."
   ]
  },
  {
   "cell_type": "markdown",
   "metadata": {},
   "source": [
    "##### Шахматы\n",
    "\n",
    "Примером настольной игры, где естественная модель не будет являться марковским процессом, являются шахматы. Допустим, мы хотим модель, аналогичную описанной для шашек, где в качестве состояний используются позиции на доске. Однако здесь возникнут проблемы, связанные со спецификой правил:\n",
    "1.  Если король или ладья совершали ход в течении партии, а после вернулись на исходные клетки, рокировку в соответствующую сторону делать нельзя. Но, лишь глядя на позицию, этого определить не получится.\n",
    "2.  Если пешка сходила с исходной клетки на две клетку вперед и оказалась на одной горизонтали и на соседней вертикали с пешкой оппонента, последний имеет право на взятие на проходе. Если же пешка попала в аналогичную позицию за два хода, взятие на проходе не допускается. Отметим, что и эту ситуацию невозможно определить, имея информацию лишь о текущем расположении фигур.\n",
    "3.  Игрок имеет право потребовать ничью (т.е. прийти в терминальное состояние в рамках модели), если за последние 50 ходов ни одна пешка не делала ход и ни одна фигура не была срублена. Это также невозможно определить по позиции.\n",
    "\n",
    "Таким образом, в рамках естественной модели для шахмат не получится даже определить возможные действия из некоторых состояний. Значит, такая модель не будет представлять из себя марковский процесс принятия решений, т.к. последующие действия зависят от предыдущих действий и состояний."
   ]
  },
  {
   "cell_type": "markdown",
   "metadata": {},
   "source": [
    "##### Связь значений\n",
    "\n",
    "Рассмотрим, как связаны некоторые значения в рамках рассматриваемой модели:\n",
    "\n",
    "1.  $r(s, a) = \\sum_{s', r}rp(s', r'|s, a)$ - средняя награда из состояния $s$ по действию $a$.\n",
    "2.  $p(s'|s, a) = \\sum_r p(s', r|s, a)$ - вероятность перехода в состояние $s'$ из состояния $s$ по действию $a$.\n",
    "3.  Средний выигрыш по переходу из $s$ в $s'$ по действию $a$: $$r(s, a, s') = \\frac{\\sum_rp(s', r|s, a)}{p(s'|s, a)}.$$\n",
    "\n",
    "Перейдем к реализации. Для удобства будем считать, что нам заранее известны средние значения выигрышей по конкретным переходам."
   ]
  },
  {
   "cell_type": "code",
   "execution_count": 184,
   "metadata": {
    "collapsed": false
   },
   "outputs": [],
   "source": [
    "import numpy as np\n",
    "import matplotlib.pyplot as plt\n",
    "import time\n",
    "np.random.seed(42)"
   ]
  },
  {
   "cell_type": "code",
   "execution_count": 185,
   "metadata": {
    "collapsed": true
   },
   "outputs": [],
   "source": [
    "class Environment(object):\n",
    "    def __init__(self, states, actions):\n",
    "        self.probabilities = np.zeros((actions, states, states))\n",
    "        self.rewards = np.zeros((actions, states, states))\n",
    "        for action in range(actions):\n",
    "            for state in range(states):\n",
    "                mask = np.random.random(states)\n",
    "                p = np.random.random() / 2 + 0.25\n",
    "                mask[mask >= p] = 1\n",
    "                mask[mask < p] = 0\n",
    "                if mask.max() == 0:\n",
    "                    mask[np.random.randint(0, states)] = 1\n",
    "                self.probabilities[action, state, :] = np.random.random(states) * mask\n",
    "                self.probabilities[action, state, :] /= self.probabilities[action, state, :].sum()\n",
    "                self.rewards[action, state, :] = (np.random.poisson(lam=10, size=states)) * mask\n",
    "    \n",
    "    def getTransitions(self):\n",
    "        return self.probabilities\n",
    "    \n",
    "    def getRewards(self):\n",
    "        return self.rewards"
   ]
  },
  {
   "cell_type": "code",
   "execution_count": 258,
   "metadata": {
    "collapsed": false
   },
   "outputs": [],
   "source": [
    "'''Markov Decision Process model\n",
    "        \n",
    "S - number of states\n",
    "A - number of actions\n",
    "\n",
    "T = array[A x S x S] - matrix of transition probabilities:\n",
    "    T[a, s1, s2] - probability of state s2, when action a is chosen in state s1\n",
    "R = array[A x S x S] - matrix of expected rewards:\n",
    "    R[a, s1, s2] - expected reward for transition from state s1 to state s2 by action a\n",
    "\n",
    "discount - coefficient of discounting from [0, 1)\n",
    "\n",
    "V = array[S] - state-value function\n",
    "Q = array[A x S] - action-value function\n",
    "\n",
    "policy = array[A x S] - policy: policy[a, s] - probability of choosing action a in state s\n",
    "\n",
    "'''\n",
    "\n",
    "class MDP(object):\n",
    "    def __init__(self, transitions, rewards, discount):        \n",
    "        self.S = transitions.shape[1]\n",
    "        self.A = transitions.shape[0]\n",
    "        self.T = transitions\n",
    "        self.R = rewards\n",
    "        self.discount = discount\n",
    "        self.V = np.random.normal(size=self.S)\n",
    "        self.Q = np.zeros((self.A, self.S))\n",
    "        self.__initPolicy__()\n",
    "    \n",
    "    def __initPolicy__(self):\n",
    "        self.policy = np.zeros((self.A, self.S))\n",
    "        # choosing policy that maximizes immediate reward in every state\n",
    "        for state in range(self.S):\n",
    "            actions_exp_rewards = self.__calculateActionRewards__(state, discounting=0)\n",
    "            best_actions = np.where(actions_exp_rewards == np.max(actions_exp_rewards))[0]\n",
    "            for action in best_actions:\n",
    "                self.policy[action, state] = 1 / best_actions.shape[0]\n",
    "    \n",
    "    def __iterativePolicyEval__(self, epsilon, max_iter=1000):\n",
    "        done = 0\n",
    "        iteration = 0\n",
    "        while not done:\n",
    "            iteration += 1\n",
    "            V_prev = np.copy(self.V)\n",
    "            for state in range(self.S):\n",
    "                actions_exp_rewards = self.__calculateActionRewards__(state)\n",
    "                self.V[state] = np.sum(actions_exp_rewards * self.policy[:, state], axis=0)\n",
    "                \n",
    "            variation = np.abs(V_prev - self.V).max()\n",
    "            if variation < epsilon or iteration > max_iter:\n",
    "                done = 1\n",
    "        return iteration, variation\n",
    "    \n",
    "    def __policyImprovement__(self):\n",
    "        for state in range(self.S):\n",
    "            old_actions = np.copy(self.policy[:, state])\n",
    "            actions_exp_rewards = self.__calculateActionRewards__(state)\n",
    "            best_actions = np.where(actions_exp_rewards == np.max(actions_exp_rewards))[0]\n",
    "            self.policy[:, state] = 0\n",
    "            for action in best_actions:\n",
    "                self.policy[action, state] = 1 / best_actions.shape[0]\n",
    "            if not np.all(self.policy[:, state] == old_actions):\n",
    "                self.stable_policy = 0\n",
    "            del old_actions\n",
    "    \n",
    "    def policyIteration(self, epsilon=1e-4, verbose=0):\n",
    "        time0 = time.time()\n",
    "        self.stable_policy = 0\n",
    "        inner_iterations = 0\n",
    "        while not self.stable_policy:\n",
    "            current_iterations, variation = self.__iterativePolicyEval__(epsilon=epsilon)\n",
    "            inner_iterations += current_iterations\n",
    "            self.stable_policy = 1\n",
    "            self.__policyImprovement__()\n",
    "            if verbose:\n",
    "                print('Iterations: ' + str(inner_iterations), end='\\t')\n",
    "                print('\\ttime: ' + str(time.time() - time0), end='\\t')\n",
    "                print('\\tVariation: ' + str(variation))\n",
    "            \n",
    "    def valueIteration(self, epsilon=1e-4, verbose=0):\n",
    "        delta = epsilon\n",
    "        time0 = time.time()\n",
    "        iters = 1\n",
    "        variation = 0\n",
    "        while delta >= epsilon:\n",
    "            delta = 0\n",
    "            for state in range(self.S):\n",
    "                v_prev = self.V[state]\n",
    "                actions_exp_rewards = self.__calculateActionRewards__(state)\n",
    "                self.V[state] = np.max(actions_exp_rewards)\n",
    "                variation = np.abs(v_prev - self.V[state])\n",
    "                delta = max(variation, delta)\n",
    "            if verbose:\n",
    "                print('Iteration: ' + str(iters), end='\\t')\n",
    "                print('\\ttime: ' + str(time.time() - time0), end='\\t')\n",
    "                print('\\tVariation: ' + str(variation))\n",
    "            iters += 1\n",
    "        self.__policyImprovement__()        \n",
    "    \n",
    "    def  __calculateActionRewards__(self, state, discounting=1):\n",
    "        return np.sum(self.T[:, state, :] * (self.R[:, state, :] + \\\n",
    "                                             discounting * self.discount * self.V), axis=1)\n",
    "    \n",
    "    def getPolicy(self):\n",
    "        return self.policy\n",
    "    \n",
    "    def getStateEval(self):\n",
    "        return self.V"
   ]
  },
  {
   "cell_type": "code",
   "execution_count": 259,
   "metadata": {
    "collapsed": false
   },
   "outputs": [],
   "source": [
    "S = 100\n",
    "A = 50\n",
    "\n",
    "env = Environment(S, A)\n",
    "P = env.getTransitions()\n",
    "R = env.getRewards()"
   ]
  },
  {
   "cell_type": "code",
   "execution_count": 261,
   "metadata": {
    "collapsed": false,
    "scrolled": true
   },
   "outputs": [
    {
     "name": "stdout",
     "output_type": "stream",
     "text": [
      "Iteration: 1\t\ttime: 0.002408742904663086\t\tVariation: 26.7953958451\n",
      "Iteration: 2\t\ttime: 0.0050508975982666016\t\tVariation: 10.9765613839\n",
      "Iteration: 3\t\ttime: 0.007617473602294922\t\tVariation: 6.9716507175\n",
      "Iteration: 4\t\ttime: 0.010254144668579102\t\tVariation: 4.40724357438\n",
      "Iteration: 5\t\ttime: 0.012814521789550781\t\tVariation: 2.79946207986\n",
      "Iteration: 6\t\ttime: 0.0154266357421875\t\tVariation: 1.79200882536\n",
      "Iteration: 7\t\ttime: 0.01811361312866211\t\tVariation: 1.15996750713\n",
      "Iteration: 8\t\ttime: 0.020897388458251953\t\tVariation: 0.755922801058\n",
      "Iteration: 9\t\ttime: 0.02356553077697754\t\tVariation: 0.492559961996\n",
      "Iteration: 10\t\ttime: 0.02637958526611328\t\tVariation: 0.321285596731\n",
      "Iteration: 11\t\ttime: 0.028989791870117188\t\tVariation: 0.209807699597\n",
      "Iteration: 12\t\ttime: 0.031696319580078125\t\tVariation: 0.137208060485\n",
      "Iteration: 13\t\ttime: 0.0344693660736084\t\tVariation: 0.0897492666366\n",
      "Iteration: 14\t\ttime: 0.03711748123168945\t\tVariation: 0.058718488789\n",
      "Iteration: 15\t\ttime: 0.039899349212646484\t\tVariation: 0.0384201817786\n",
      "Iteration: 16\t\ttime: 0.04302024841308594\t\tVariation: 0.0251384524253\n",
      "Iteration: 17\t\ttime: 0.04600262641906738\t\tVariation: 0.0164481061408\n",
      "Iteration: 18\t\ttime: 0.04914212226867676\t\tVariation: 0.0107619986799\n",
      "Iteration: 19\t\ttime: 0.052210330963134766\t\tVariation: 0.0070415775727\n",
      "Iteration: 20\t\ttime: 0.055953025817871094\t\tVariation: 0.00460730547729\n",
      "Iteration: 21\t\ttime: 0.05910849571228027\t\tVariation: 0.00301456081186\n",
      "Iteration: 22\t\ttime: 0.06224226951599121\t\tVariation: 0.00197242768748\n",
      "Iteration: 23\t\ttime: 0.06505966186523438\t\tVariation: 0.00129055979457\n",
      "Iteration: 24\t\ttime: 0.06785202026367188\t\tVariation: 0.000844413508254\n",
      "Iteration: 25\t\ttime: 0.07036852836608887\t\tVariation: 0.00055249991199\n",
      "Iteration: 26\t\ttime: 0.07279634475708008\t\tVariation: 0.000361500792877\n",
      "Iteration: 27\t\ttime: 0.07616472244262695\t\tVariation: 0.000236530034506\n",
      "Iteration: 28\t\ttime: 0.07875227928161621\t\tVariation: 0.000154761644602\n",
      "Iteration: 29\t\ttime: 0.08123207092285156\t\tVariation: 0.000101260572194\n",
      "Iteration: 30\t\ttime: 0.0836637020111084\t\tVariation: 6.62548107897e-05\n",
      "Iteration: 31\t\ttime: 0.08608865737915039\t\tVariation: 4.33505347601e-05\n"
     ]
    }
   ],
   "source": [
    "mdpVI = MDP(P, R, 0.8)\n",
    "mdpVI.valueIteration(1e-4, verbose=1)"
   ]
  },
  {
   "cell_type": "code",
   "execution_count": 262,
   "metadata": {
    "collapsed": false,
    "scrolled": false
   },
   "outputs": [
    {
     "name": "stdout",
     "output_type": "stream",
     "text": [
      "Iterations: 31\t\ttime: 0.07897281646728516\t\tVariation: 7.27573425294e-05\n",
      "Iterations: 42\t\ttime: 0.10623669624328613\t\tVariation: 9.32815189927e-05\n"
     ]
    }
   ],
   "source": [
    "mdpPI = MDP(P, R, 0.8)\n",
    "mdpPI.policyIteration(1e-4, verbose=1)"
   ]
  },
  {
   "cell_type": "code",
   "execution_count": 263,
   "metadata": {
    "collapsed": false
   },
   "outputs": [
    {
     "data": {
      "text/plain": [
       "5000"
      ]
     },
     "execution_count": 263,
     "metadata": {},
     "output_type": "execute_result"
    }
   ],
   "source": [
    "(mdpPI.getPolicy() == mdpVI.getPolicy()).sum()"
   ]
  },
  {
   "cell_type": "code",
   "execution_count": 266,
   "metadata": {
    "collapsed": false
   },
   "outputs": [],
   "source": [
    "discounters = [0.1, 0.3, 0.5, 0.6, 0.7, 0.8, 0.9, 0.95]\n",
    "values = np.zeros((len(discounters), S))\n",
    "for d in range(len(discounters)):\n",
    "    mdp = MDP(P, R, discounters[d])\n",
    "    mdp.policyIteration(1e-6)\n",
    "    values[d, :] = mdp.getStateEval()"
   ]
  },
  {
   "cell_type": "code",
   "execution_count": 267,
   "metadata": {
    "collapsed": false
   },
   "outputs": [
    {
     "data": {
      "image/png": "[encoded data removed]",
      "text/plain": [
       "<matplotlib.figure.Figure at 0x7f633d72fe80>"
      ]
     },
     "metadata": {},
     "output_type": "display_data"
    }
   ],
   "source": [
    "fig = plt.figure(figsize=(16, 8))\n",
    "\n",
    "states = [0, 1, 2, 3, 4]\n",
    "\n",
    "for s in range(len(states)):\n",
    "    plt.plot(discounters, values[:, s])\n",
    "\n",
    "plt.show()"
   ]
  },
  {
   "cell_type": "code",
   "execution_count": null,
   "metadata": {
    "collapsed": true
   },
   "outputs": [],
   "source": []
  }
 ],
 "metadata": {
  "kernelspec": {
   "display_name": "Python 3",
   "language": "python",
   "name": "python3"
  },
  "language_info": {
   "codemirror_mode": {
    "name": "ipython",
    "version": 3
   },
   "file_extension": ".py",
   "mimetype": "text/x-python",
   "name": "python",
   "nbconvert_exporter": "python",
   "pygments_lexer": "ipython3",
   "version": "3.5.2"
  }
 },
 "nbformat": 4,
 "nbformat_minor": 2
}

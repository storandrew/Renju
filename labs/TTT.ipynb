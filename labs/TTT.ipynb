{
 "cells": [
  {
   "cell_type": "markdown",
   "metadata": {
    "collapsed": true,
    "deletable": true,
    "editable": true
   },
   "source": [
    "# Tic-Tac-Toe"
   ]
  },
  {
   "cell_type": "code",
   "execution_count": 1,
   "metadata": {
    "collapsed": true,
    "deletable": true,
    "editable": true
   },
   "outputs": [],
   "source": [
    "import numpy as np\n",
    "import matplotlib.pyplot as plt\n",
    "from IPython.display import clear_output\n",
    "import time\n",
    "np.random.seed(228)"
   ]
  },
  {
   "cell_type": "code",
   "execution_count": 2,
   "metadata": {
    "collapsed": true,
    "deletable": true,
    "editable": true
   },
   "outputs": [],
   "source": [
    "def checkPosition(position):\n",
    "        if checkVertical(position, 'x') or checkHorizontal(position, 'x') \\\n",
    "        or checkDiagonal(position, 'x'):\n",
    "            return 'w'\n",
    "        elif checkVertical(position, 'o') or checkHorizontal(position, 'o') \\\n",
    "        or checkDiagonal(position, 'o'):\n",
    "            return 'l'\n",
    "        elif position.find('.') == -1:\n",
    "            return 'd'\n",
    "        else:\n",
    "            return 'n'       \n",
    "\n",
    "def checkVertical(position, c):\n",
    "    for i in range(3, 6):\n",
    "        if position[i-3] == c and position[i] == c and position[i+3] == c:\n",
    "            return True\n",
    "    return False\n",
    "\n",
    "def checkHorizontal(position, c):\n",
    "    for i in range(1, 8, 3):\n",
    "        if position[i-1] == c and position[i] == c and position[i+1] == c:\n",
    "            return True\n",
    "    return False\n",
    "\n",
    "def checkDiagonal(position, c):\n",
    "    if (position[0] == c and position[4] == c and position[8] == c) or \\\n",
    "    (position[2] == c and position[4] == c and position[6] == c):\n",
    "        return True\n",
    "    return False\n",
    "\n",
    "def printPosition(position, cl=1):\n",
    "    if cl:\n",
    "        clear_output()\n",
    "    for i in range(0, 9, 3):\n",
    "        print(position[i : i + 3])"
   ]
  },
  {
   "cell_type": "code",
   "execution_count": 3,
   "metadata": {
    "collapsed": false,
    "deletable": true,
    "editable": true
   },
   "outputs": [],
   "source": [
    "class mdpPlayer(object):\n",
    "    def __init__(self, player, mode, epsilon=0.1, alpha=0.2, discount=1):\n",
    "        self.state2num = {}\n",
    "        self.num2state = {}\n",
    "        self.S = 0\n",
    "        self.curPosition = \".........\"\n",
    "        self.player=player\n",
    "        self.__generateStates__(self.curPosition)\n",
    "        self.Q = np.zeros((9, self.S))\n",
    "        self.eps = epsilon\n",
    "        self.eps0 = epsilon\n",
    "        self.alpha = alpha\n",
    "        self.discount = discount\n",
    "        self.lastA = None\n",
    "        self.lastS = None\n",
    "        self.learn = 1\n",
    "        self.mode = mode\n",
    "    \n",
    "    def takeResponse(self, new_position, reward):\n",
    "        if not self.learn:\n",
    "            return\n",
    "        \n",
    "        self.curPosition = new_position\n",
    "        newS = self.state2num[self.curPosition]\n",
    "        if reward == None:\n",
    "            return\n",
    "        if self.mode == 'sarsa':\n",
    "            newA = self.__chooseAction__(self.curPosition)\n",
    "        elif self.mode == 'q':\n",
    "            epsilon = self.eps\n",
    "            self.eps = 0\n",
    "            newA = self.__chooseAction__(self.curPosition)\n",
    "            self.eps = epsilon\n",
    "\n",
    "        increment = self.alpha * (reward + self.discount * self.Q[newA, newS] - self.Q[self.lastA, self.lastS])\n",
    "        rotatedActionState = [(self.lastA, self.lastS)]\n",
    "        rotatedS = self.num2state[self.lastS]\n",
    "        rotatedA = self.lastA\n",
    "        \n",
    "        for i in range(3):\n",
    "            rotatedS = self.__rotate__(rotatedS)\n",
    "            rotatedA = 3 * (rotatedA % 3) + 2 - rotatedA // 3\n",
    "            rotatedActionState.append((rotatedA, self.state2num[rotatedS]))\n",
    "        \n",
    "        for action, state in rotatedActionState:\n",
    "            self.Q[action, state] += increment\n",
    "        \n",
    "                \n",
    "    def takeAction(self, position):\n",
    "        self.lastA = self.__chooseAction__(position)\n",
    "        self.lastS = self.state2num[position]\n",
    "        return self.lastA\n",
    "    \n",
    "    def __chooseAction__(self, position):\n",
    "        if position.find('.') == -1:\n",
    "            return 0\n",
    "        state = self.state2num[position]\n",
    "        actions = []\n",
    "        for i in range(9):\n",
    "            if position[i] == '.':\n",
    "                actions.append(i)\n",
    "        actions = np.array(actions, copy=False)\n",
    "        \n",
    "        p = np.random.random()\n",
    "        if p < self.eps:\n",
    "            return np.random.choice(actions)\n",
    "        else:\n",
    "            values = np.zeros(actions.shape)\n",
    "            for a in range(actions.shape[0]):\n",
    "                values[a] = self.Q[actions[a], state]\n",
    "            best_value = np.max(values)\n",
    "            return actions[np.random.choice(np.flatnonzero(values == best_value))]\n",
    "        \n",
    "    def __generateStates__(self, position, player=0):\n",
    "        pos_type = checkPosition(position)\n",
    "        if player == self.player or pos_type != 'n':\n",
    "            if self.state2num.get(position) is None:\n",
    "                self.state2num[position] = self.S\n",
    "                self.num2state[self.S] = position\n",
    "                self.S += 1\n",
    "            else:\n",
    "                return\n",
    "        \n",
    "        if pos_type == 'n':\n",
    "            for i in range(9):\n",
    "                if position[i] == '.':\n",
    "                    new_position = position[:i]\n",
    "                    new_position += 'x' if not player else 'o'\n",
    "                    new_position += position[i + 1:]                        \n",
    "                    self.__generateStates__(new_position, 1 - player)\n",
    "        return\n",
    "    \n",
    "    def __rotate__(self, pos):\n",
    "        new_pos = pos[6] + pos[3] + pos[0] + pos[7] + pos[4] + pos[1] + pos[8] + pos[5] + pos[2]\n",
    "        return new_pos\n",
    "    \n",
    "    def playMode(self):\n",
    "        self.eps = 0\n",
    "        self.learn = 0\n",
    "    \n",
    "    def randomMode(self):\n",
    "        self.eps = 1\n",
    "        self.learn = 0\n",
    "    \n",
    "    def learnMode(self):\n",
    "        self.eps = self.eps0\n",
    "        self.learn = 1"
   ]
  },
  {
   "cell_type": "code",
   "execution_count": 4,
   "metadata": {
    "collapsed": true,
    "deletable": true,
    "editable": true
   },
   "outputs": [],
   "source": [
    "class Match(object):\n",
    "    def __init__(self):\n",
    "        self.position = '.........'\n",
    "        self.player = 0\n",
    "        self.crosseswin = 0\n",
    "        self.noughtswin = 0\n",
    "        self.draw = 0\n",
    "    \n",
    "    def __train__(self, player0, player1):\n",
    "        finished = 0\n",
    "        beginning = 1\n",
    "        while not finished:\n",
    "            if self.player == 0:\n",
    "                move = player0.takeAction(self.position)\n",
    "                self.position = self.position[: move] + 'x' + self.position[move + 1 :]\n",
    "                pos_type = checkPosition(self.position)\n",
    "                if pos_type == 'n':\n",
    "                    if beginning:\n",
    "                        player1.takeResponse(new_position=self.position, reward=None)\n",
    "                    else:\n",
    "                        player1.takeResponse(new_position=self.position, reward=0)\n",
    "                elif pos_type == 'd':\n",
    "                    player0.takeResponse(new_position=self.position, reward=1)\n",
    "                    player1.takeResponse(new_position=self.position, reward=1)\n",
    "                    self.draw += 1\n",
    "                    finished = 1\n",
    "                elif pos_type == 'w':\n",
    "                    player0.takeResponse(new_position=self.position, reward=10)\n",
    "                    player1.takeResponse(new_position=self.position, reward=-10)\n",
    "                    self.crosseswin += 1\n",
    "                    finished = 1\n",
    "            else:\n",
    "                move = player1.takeAction(self.position)\n",
    "                self.position = self.position[: move] + 'o' + self.position[move + 1 :]\n",
    "                pos_type = checkPosition(self.position)\n",
    "                if pos_type == 'n':\n",
    "                    player0.takeResponse(new_position=self.position, reward=0)\n",
    "                elif pos_type == 'l':\n",
    "                    player0.takeResponse(new_position=self.position, reward=-10)\n",
    "                    player1.takeResponse(new_position=self.position, reward=10)\n",
    "                    self.noughtswin += 1\n",
    "                    finished = 1\n",
    "            self.player = 1 - self.player\n",
    "            beginning = 0\n",
    "            \n",
    "        self.position = '.........'\n",
    "        self.player = 0\n",
    "    \n",
    "    def __test__(self, player0, player1, verbose=0):\n",
    "        finished = 0\n",
    "        while not finished:\n",
    "            if self.player == 0:\n",
    "                move = player0.takeAction(self.position)\n",
    "                self.position = self.position[: move] + 'x' + self.position[move + 1 :]\n",
    "                pos_type = checkPosition(self.position)\n",
    "                if pos_type == 'd':\n",
    "                    self.draw += 1\n",
    "                    if verbose == 2:\n",
    "                        printPosition(self.position)\n",
    "                        print('\\nDraw')\n",
    "                        if type(player0) == humanPlayer or type(player1) == humanPlayer:\n",
    "                            time.sleep(5)\n",
    "                            print('')\n",
    "                    finished = 1\n",
    "                elif pos_type == 'w':\n",
    "                    self.crosseswin += 1\n",
    "                    if verbose == 2:\n",
    "                        printPosition(self.position)\n",
    "                        print('\\nCrosses win')\n",
    "                        if type(player0) == humanPlayer or type(player1) == humanPlayer:\n",
    "                            time.sleep(5)\n",
    "                            print('')\n",
    "                    finished = 1\n",
    "            else:\n",
    "                move = player1.takeAction(self.position)\n",
    "                self.position = self.position[: move] + 'o' + self.position[move + 1 :]\n",
    "                pos_type = checkPosition(self.position)\n",
    "                if pos_type == 'l':\n",
    "                    self.noughtswin += 1\n",
    "                    if verbose == 2:\n",
    "                        printPosition(self.position)\n",
    "                        print('\\nNoughts win')\n",
    "                        if type(player0) == humanPlayer or type(player1) == humanPlayer:\n",
    "                            time.sleep(5)\n",
    "                            print('')\n",
    "                    finished = 1\n",
    "            self.player = 1 - self.player\n",
    "        self.position = '.........'\n",
    "        self.player = 0\n",
    "    \n",
    "    def trainSet(self, number, player0, player1, info=0):\n",
    "        history = []\n",
    "        time0 = time.time()\n",
    "        self.__init__()\n",
    "        for i in range(number):\n",
    "            self.__train__(player0, player1)\n",
    "            if info and i % 1000 == 0:\n",
    "                player0.playMode()\n",
    "                randnt = mdpPlayer(mode='sarsa', player=1)\n",
    "                randnt.randomMode()\n",
    "                self.testSet(10000, player0, randnt)\n",
    "                player0.learnMode()\n",
    "                crosses = self.crosseswin + self.draw\n",
    "                player1.playMode()\n",
    "                randcr = mdpPlayer(mode='sarsa', player=0)\n",
    "                randcr.randomMode()\n",
    "                self.testSet(10000, randcr, player1)\n",
    "                player1.learnMode()\n",
    "                noughts = self.noughtswin + self.draw\n",
    "                history.append([crosses, noughts])\n",
    "                if sum(history[-1]) == 20000:\n",
    "                    break\n",
    "        print('\\t' + str(time.time() - time0))\n",
    "        return np.array(history)\n",
    "        \n",
    "    \n",
    "    def testSet(self, number, player0, player1, verbose=0):\n",
    "        self.__init__()\n",
    "        for i in range(1, number+1):\n",
    "            self.__test__(player0, player1, verbose)\n",
    "            if verbose == 1 and i % 100 == 0:\n",
    "                print('\\r\\tCrosses: ' + str(self.crosseswin) + ', Noughts: ' + str(self.noughtswin) + \\\n",
    "                      ', Draw: ' + str(self.draw), end=' ')\n",
    "                time.sleep(0.0001)"
   ]
  },
  {
   "cell_type": "code",
   "execution_count": 5,
   "metadata": {
    "collapsed": true,
    "deletable": true,
    "editable": true
   },
   "outputs": [],
   "source": [
    "class humanPlayer(object):\n",
    "    def __init__(self):\n",
    "        pass\n",
    "    \n",
    "    def takeResponse(self, new_position, reward):\n",
    "        pass\n",
    "    \n",
    "    def takeAction(self, position):\n",
    "        printPosition(position)\n",
    "        action = int(input())\n",
    "        return action"
   ]
  },
  {
   "cell_type": "code",
   "execution_count": 6,
   "metadata": {
    "collapsed": true,
    "deletable": true,
    "editable": true
   },
   "outputs": [],
   "source": [
    "def trainNtest(mtch, cr, nt, games, info=0):\n",
    "    print('\\nTraining time, s:')\n",
    "    history = mtch.trainSet(games, cr, nt, info)\n",
    "    cr.playMode()\n",
    "    nt.playMode()\n",
    "    print('\\nTrained crosses vs Trained noughts:')\n",
    "    mtch.testSet(1000, cr, nt, verbose=1)\n",
    "    cr.playMode()\n",
    "    nt.randomMode()\n",
    "    print('\\nTrained crosses vs Random noughts:')\n",
    "    mtch.testSet(10000, cr, nt, verbose=1)\n",
    "    cr.randomMode()\n",
    "    nt.playMode()\n",
    "    print('\\nRandom crosses vs Trained noughts:')\n",
    "    mtch.testSet(10000, cr, nt, verbose=1)\n",
    "    if info:\n",
    "        return history"
   ]
  },
  {
   "cell_type": "code",
   "execution_count": 7,
   "metadata": {
    "collapsed": false,
    "deletable": true,
    "editable": true
   },
   "outputs": [
    {
     "name": "stdout",
     "output_type": "stream",
     "text": [
      "\n",
      "Training time, s:\n",
      "\t24.00540518760681\n",
      "\n",
      "Trained crosses vs Trained noughts:\n",
      "\tCrosses: 0, Noughts: 0, Draw: 1000 \n",
      "Trained crosses vs Random noughts:\n",
      "\tCrosses: 9895, Noughts: 0, Draw: 105 \n",
      "Random crosses vs Trained noughts:\n",
      "\tCrosses: 0, Noughts: 8759, Draw: 1241 "
     ]
    }
   ],
   "source": [
    "mtch = Match()\n",
    "crS = mdpPlayer(player=0, mode='sarsa', epsilon=0.3, alpha=0.3, discount=0.9)\n",
    "ntS = mdpPlayer(player=1, mode='sarsa', epsilon=0.3, alpha=0.3, discount=0.9)\n",
    "historyS = trainNtest(mtch, crS, ntS, 50000, 1)"
   ]
  },
  {
   "cell_type": "code",
   "execution_count": 8,
   "metadata": {
    "collapsed": false,
    "deletable": true,
    "editable": true
   },
   "outputs": [
    {
     "name": "stdout",
     "output_type": "stream",
     "text": [
      "\n",
      "Training time, s:\n",
      "\t27.11155652999878\n",
      "\n",
      "Trained crosses vs Trained noughts:\n",
      "\tCrosses: 0, Noughts: 0, Draw: 1000 \n",
      "Trained crosses vs Random noughts:\n",
      "\tCrosses: 9889, Noughts: 0, Draw: 111 \n",
      "Random crosses vs Trained noughts:\n",
      "\tCrosses: 0, Noughts: 9142, Draw: 858 "
     ]
    }
   ],
   "source": [
    "crQ = mdpPlayer(player=0, mode='q', epsilon=0.3, alpha=0.3, discount=0.9)\n",
    "ntQ = mdpPlayer(player=1, mode='q', epsilon=0.3, alpha=0.3, discount=0.9)\n",
    "historyQ = trainNtest(mtch, crQ, ntQ, 50000, 1)"
   ]
  },
  {
   "cell_type": "code",
   "execution_count": 9,
   "metadata": {
    "collapsed": false
   },
   "outputs": [
    {
     "data": {
      "image/png": "[encoded data removed]",
      "text/plain": [
       "<matplotlib.figure.Figure at 0x7f80c269a208>"
      ]
     },
     "metadata": {},
     "output_type": "display_data"
    }
   ],
   "source": [
    "fig = plt.figure(figsize=(10, 5))\n",
    "\n",
    "plt.plot(np.arange(historyS.shape[0]), historyS[:, 0], c='red', label='SARSA, crosses')\n",
    "plt.plot(np.arange(historyS.shape[0]), historyS[:, 1], c='blue', label='SARSA, noughts')\n",
    "plt.plot(np.arange(historyQ.shape[0]), historyQ[:, 0], c='green', label='Q-learning, crosses')\n",
    "plt.plot(np.arange(historyQ.shape[0]), historyQ[:, 1], c='purple', label='Q-learning, noughts')\n",
    "\n",
    "plt.xlabel('Iteration, thousands')\n",
    "plt.ylabel('Wins and Draws')\n",
    "plt.legend()\n",
    "plt.grid()\n",
    "plt.show()"
   ]
  },
  {
   "cell_type": "code",
   "execution_count": 10,
   "metadata": {
    "collapsed": true
   },
   "outputs": [],
   "source": [
    "mtch = Match()\n",
    "hPlayer = humanPlayer()\n",
    "crQ.playMode()\n",
    "ntQ.playMode()"
   ]
  },
  {
   "cell_type": "code",
   "execution_count": 11,
   "metadata": {
    "collapsed": false,
    "scrolled": true
   },
   "outputs": [
    {
     "name": "stdout",
     "output_type": "stream",
     "text": [
      "o.x\n",
      ".ox\n",
      "xox\n",
      "\n",
      "Crosses win\n",
      "\n"
     ]
    }
   ],
   "source": [
    "mtch.testSet(1, crQ, hPlayer, verbose=2)"
   ]
  },
  {
   "cell_type": "code",
   "execution_count": 12,
   "metadata": {
    "collapsed": false
   },
   "outputs": [
    {
     "name": "stdout",
     "output_type": "stream",
     "text": [
      "oox\n",
      "xoo\n",
      "xxx\n",
      "\n",
      "Crosses win\n",
      "\n"
     ]
    }
   ],
   "source": [
    "mtch.testSet(1, crQ, hPlayer, verbose=2)"
   ]
  },
  {
   "cell_type": "code",
   "execution_count": 13,
   "metadata": {
    "collapsed": false,
    "scrolled": true
   },
   "outputs": [
    {
     "name": "stdout",
     "output_type": "stream",
     "text": [
      "xox\n",
      "oxx\n",
      "oxo\n",
      "\n",
      "Draw\n",
      "\n"
     ]
    }
   ],
   "source": [
    "mtch.testSet(1, hPlayer, ntQ, verbose=2)"
   ]
  },
  {
   "cell_type": "code",
   "execution_count": 14,
   "metadata": {
    "collapsed": false
   },
   "outputs": [
    {
     "name": "stdout",
     "output_type": "stream",
     "text": [
      "xox\n",
      "oox\n",
      "xxo\n",
      "\n",
      "Draw\n",
      "\n"
     ]
    }
   ],
   "source": [
    "mtch.testSet(1, hPlayer, ntQ, verbose=2)"
   ]
  },
  {
   "cell_type": "markdown",
   "metadata": {},
   "source": [
    " "
   ]
  },
  {
   "cell_type": "code",
   "execution_count": null,
   "metadata": {
    "collapsed": true
   },
   "outputs": [],
   "source": []
  }
 ],
 "metadata": {
  "kernelspec": {
   "display_name": "Python 3",
   "language": "python",
   "name": "python3"
  },
  "language_info": {
   "codemirror_mode": {
    "name": "ipython",
    "version": 3
   },
   "file_extension": ".py",
   "mimetype": "text/x-python",
   "name": "python",
   "nbconvert_exporter": "python",
   "pygments_lexer": "ipython3",
   "version": "3.5.2"
  }
 },
 "nbformat": 4,
 "nbformat_minor": 2
}
